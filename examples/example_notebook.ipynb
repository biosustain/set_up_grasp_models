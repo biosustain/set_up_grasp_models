{
 "cells": [
  {
   "cell_type": "markdown",
   "metadata": {},
   "source": [
    "# Generate a model from scratch"
   ]
  },
  {
   "cell_type": "code",
   "execution_count": 1,
   "metadata": {},
   "outputs": [
    {
     "name": "stdout",
     "output_type": "stream",
     "text": [
      "Downloading package metadata...\n",
      "Fragments already downloaded\n",
      "Downloading package metadata...\n",
      "Fragments already downloaded\n"
     ]
    }
   ],
   "source": [
    "from set_up_grasp_models.set_up_models.set_up_model import set_up_model\n",
    "import os"
   ]
  },
  {
   "cell_type": "code",
   "execution_count": 2,
   "metadata": {},
   "outputs": [],
   "source": [
    "# file with model reactions\n",
    "file_in_stoic = os.path.join('example_files', 'glycolysis_example.txt')\n",
    "# GRASP input file with general sheet\n",
    "base_excel_file = os.path.join('..', 'base_files', 'GRASP_general.xlsx')\n",
    "\n",
    "# define model name\n",
    "model_name = 'glycolysis_v1'\n",
    "# define output file\n",
    "file_out = os.path.join('example_files', 'output', model_name + '.xlsx')\n",
    "\n",
    "# generate model\n",
    "set_up_model(model_name, file_in_stoic, base_excel_file, file_out)"
   ]
  },
  {
   "cell_type": "markdown",
   "metadata": {},
   "source": [
    "### Optionally fill in Gibbs energies"
   ]
  },
  {
   "cell_type": "code",
   "execution_count": 3,
   "metadata": {},
   "outputs": [
    {
     "name": "stderr",
     "output_type": "stream",
     "text": [
      "/home/dx/.conda/envs/grasp_models_dev/lib/python3.7/site-packages/pint/quantity.py:221: BehaviorChangeWarning: The way Pint handles NumPy operations has changed with the\n",
      "implementation of NEP 18. Unimplemented NumPy operations will now fail instead of making\n",
      "assumptions about units. Some functions, eg concat, will now return Quanties with units, where\n",
      "they returned ndarrays previously. See https://github.com/hgrecco/pint/pull/905.\n",
      "\n",
      "To hide this warning, wrap your first creation of an array Quantity with\n",
      "warnings.catch_warnings(), like the following:\n",
      "\n",
      "import numpy as np\n",
      "import warnings\n",
      "from pint import Quantity\n",
      "\n",
      "with warnings.catch_warnings():\n",
      "    warnings.simplefilter(\"ignore\")\n",
      "    Quantity([])\n",
      "\n",
      "To disable the new behavior, see\n",
      "https://www.numpy.org/neps/nep-0018-array-function-protocol.html#implementation\n",
      "\n",
      "  warnings.warn(array_function_change_msg, BehaviorChangeWarning)\n"
     ]
    }
   ],
   "source": [
    "# file with model reactions\n",
    "file_in_stoic = os.path.join('example_files', 'glycolysis_example.txt')\n",
    "# GRASP input file with general sheet\n",
    "base_excel_file = os.path.join('..', 'base_files', 'GRASP_general.xlsx')\n",
    "\n",
    "# define model name\n",
    "model_name = 'glycolysis_v1_gibbs'\n",
    "# define output file\n",
    "file_out = os.path.join('example_files', 'output', model_name + '.xlsx')\n",
    "\n",
    "# generate model\n",
    "set_up_model(model_name, file_in_stoic, base_excel_file, file_out, use_equilibrator=True)"
   ]
  },
  {
   "cell_type": "markdown",
   "metadata": {},
   "source": [
    "### Optionally provide metabolomics data"
   ]
  },
  {
   "cell_type": "code",
   "execution_count": 4,
   "metadata": {},
   "outputs": [],
   "source": [
    "# file with model reactions\n",
    "file_in_stoic = os.path.join('example_files', 'glycolysis_example.txt')\n",
    "# GRASP input file with general sheet\n",
    "base_excel_file = os.path.join('..', 'base_files', 'GRASP_general.xlsx')\n",
    "\n",
    "# define metabolomics input file\n",
    "file_in_mets_conc = os.path.join('example_files', 'met_concs.xlsx')\n",
    "\n",
    "# define model name\n",
    "model_name = 'glycolysis_v1_gibbs_metabolomics'\n",
    "# define output file\n",
    "file_out = os.path.join('example_files', 'output', model_name + '.xlsx')\n",
    "\n",
    "# generate model\n",
    "set_up_model(model_name, file_in_stoic, base_excel_file, file_out, use_equilibrator=True,\n",
    "             file_in_mets_conc=file_in_mets_conc)"
   ]
  },
  {
   "cell_type": "markdown",
   "metadata": {},
   "source": [
    "# Generate a modified version of an existing model"
   ]
  },
  {
   "cell_type": "code",
   "execution_count": 5,
   "metadata": {},
   "outputs": [],
   "source": [
    "# file with model reactions\n",
    "file_in_stoic = os.path.join('example_files', 'glycolysis_example.txt')\n",
    "# GRASP input file with general sheet\n",
    "base_excel_file = os.path.join('example_files', 'model_v2.3.xlsx')\n",
    "\n",
    "# define metabolomics input file\n",
    "file_in_mets_conc = os.path.join('example_files', 'met_concs.xlsx')\n",
    "\n",
    "# define model name\n",
    "model_name = 'glycolysis_v2'\n",
    "# define output file\n",
    "file_out = os.path.join('example_files', 'output', model_name + '.xlsx')\n",
    "\n",
    "# generate model\n",
    "set_up_model(model_name, file_in_stoic, base_excel_file, file_out)"
   ]
  },
  {
   "cell_type": "markdown",
   "metadata": {},
   "source": [
    "### Generate GRASP mechanism patterns from elementary reactions"
   ]
  },
  {
   "cell_type": "code",
   "execution_count": 6,
   "metadata": {},
   "outputs": [],
   "source": [
    "from set_up_grasp_models.set_up_models.convert_mechanisms import generate_mechanisms"
   ]
  },
  {
   "cell_type": "code",
   "execution_count": 7,
   "metadata": {},
   "outputs": [],
   "source": [
    "# define model name\n",
    "model_name = 'glycolysis_v2'\n",
    "# define input file\n",
    "file_in_model = os.path.join('example_files', 'output', model_name + '.xlsx')\n",
    "\n",
    "# define path to folder with elementary reaction mechanisms\n",
    "mech_in_dir = os.path.join('example_files', 'mechanisms')\n",
    "\n",
    "# define path to folder where the pattern files will be generated\n",
    "pattern_out_dir = os.path.join('/home', 'dx', 'Projects', 'GRASP', 'patterns')\n",
    "\n",
    "generate_mechanisms(file_in_model, mech_in_dir, pattern_out_dir)"
   ]
  },
  {
   "cell_type": "markdown",
   "metadata": {},
   "source": [
    "# Check models for consistency"
   ]
  },
  {
   "cell_type": "code",
   "execution_count": 8,
   "metadata": {},
   "outputs": [],
   "source": [
    "from set_up_grasp_models.check_models.format_checks import check_met_rxn_order, check_kinetics_met_separators, \\\n",
    "    check_kinetics_subs_prod_order, check_rxn_mechanism_order\n",
    "from set_up_grasp_models.check_models.thermodynamics_checks import check_thermodynamic_feasibility\n",
    "from set_up_grasp_models.check_models.mass_balance_checks import check_flux_balance, check_balanced_metabolites\n",
    "\n",
    "import pandas as pd"
   ]
  },
  {
   "cell_type": "code",
   "execution_count": 9,
   "metadata": {},
   "outputs": [
    {
     "name": "stdout",
     "output_type": "stream",
     "text": [
      "\n",
      "Checking if the order of reactions and metabolites is the same in all excel sheets.\n",
      "\n",
      "Everything seems to be OK.\n",
      "\n",
      "\n",
      "Checking if values are separated by a space in the kinetics sheet in columns order, promiscuous, inhibitors, activators, negative effector, and positive effector.\n",
      "It looks for dots, commas, and semi-colons.\n",
      "\n",
      "Everything seems to be OK.\n",
      "\n",
      "\n",
      "Checking if the metabolite names in the substrate and product order columns in the kinetics sheet are valid, i.e., if they are indeed substrates and products of the respective reaction.\n",
      "Take the results with a grain of salt though, as you might not want to include all substrates/products in the reactions' mechanisms.\n",
      "\n",
      "The following metabolites in the substrate order column for reaction R_G6PDH2_NADP are not part of the reaction substrates:\n",
      "{'m_nad_c'}\n",
      "\n",
      "The following metabolites in the product order column for reaction R_G6PDH2_NADP are not part of the reaction products:\n",
      "{'m_nadh_c'}\n",
      "\n",
      "The following metabolites in the substrate order column for reaction R_G6PDH2_NAD are not part of the reaction substrates:\n",
      "{'m_nadp_c'}\n",
      "\n",
      "The following metabolites in the product order column for reaction R_G6PDH2_NAD are not part of the reaction products:\n",
      "{'m_nadph_c'}\n",
      "\n",
      "The following reaction substrates are not part of the substrate order column for reaction R_PGL :\n",
      "{'m_h2o_c'}\n",
      "\n",
      "The following reaction products are not part of the product order column for reaction R_EDD :\n",
      "{'m_h2o_c'}\n",
      "\n",
      "The following metabolites in the substrate order column for reaction R_PGI are not part of the reaction substrates:\n",
      "{'m_g6p_c'}\n",
      "\n",
      "The following metabolites in the product order column for reaction R_PGI are not part of the reaction products:\n",
      "{'m_f6p_c'}\n",
      "\n",
      "The following reaction substrates are not part of the substrate order column for reaction R_FBP :\n",
      "{'m_h2o_c'}\n",
      "\n",
      "The following reaction products are not part of the product order column for reaction R_ENO :\n",
      "{'m_h2o_c'}\n",
      "\n",
      "\n",
      "Checking if non enzymatic mechanisms come only after enzymatic ones and if fixedExchange is the very last one.\n",
      "\n",
      "Everything seems to be OK.\n",
      "\n",
      "\n",
      "Checking if fluxes and Gibbs energies are compatible.\n",
      "\n",
      "Everything seems to be OK.\n",
      "\n",
      "Checking if metabolites are both consumed and produced in the stoichiometric matrix, and if so checks if they are marked as balanced in the mets sheet. However, the metabolite might be balanced/not balanced anyways depending on the flux of the reactions that consume/produce it, so take this with a grain of salt.\n",
      "\n",
      "m_nadp_c is marked as balanced but it does not seem to be balanced.\n",
      "m_nadph_c is marked as balanced but it does not seem to be balanced.\n",
      "m_nad_c is marked as balanced but it does not seem to be balanced.\n",
      "m_nadh_c is marked as balanced but it does not seem to be balanced.\n",
      "m_h2o_c is marked as not balanced but it seems to be balanced.\n",
      "m_pi_c is marked as not balanced but it seems to be balanced.\n",
      "m_adp_c is marked as balanced but it does not seem to be balanced.\n",
      "m_atp_c is marked as balanced but it does not seem to be balanced.\n",
      "\n",
      "Checking if the fluxes for each metabolite production/consumptions add up to zero.\n",
      "\n",
      "The flux for m_g6p_c is not balanced. The difference in flux is -45.0\n",
      "The flux for m_nadp_c is not balanced. The difference in flux is -292.5\n",
      "The flux for m_6pgl_c is not balanced. The difference in flux is -585.0\n",
      "The flux for m_nadph_c is not balanced. The difference in flux is 292.5\n",
      "The flux for m_nad_c is not balanced. The difference in flux is -5402.5\n",
      "The flux for m_nadh_c is not balanced. The difference in flux is 5402.5\n",
      "The flux for m_6pgc_c is not balanced. The difference in flux is -4960.0\n",
      "The flux for m_g3p_c is not balanced. The difference in flux is -10.0\n",
      "The flux for m_f6p_c is not balanced. The difference in flux is -160.0\n",
      "The flux for m_adp_c is not balanced. The difference in flux is -9000.0\n",
      "The flux for m_atp_c is not balanced. The difference in flux is 9000.0\n"
     ]
    },
    {
     "data": {
      "text/plain": [
       "True"
      ]
     },
     "execution_count": 9,
     "metadata": {},
     "output_type": "execute_result"
    }
   ],
   "source": [
    "model_name = 'glycolysis_v2'\n",
    "file_in = os.path.join('example_files', 'output', model_name + '.xlsx')\n",
    "data_dict = pd.read_excel(file_in, sheet_name=None, index_col=0)\n",
    "\n",
    "\n",
    "# check if the order of metabolites and reactions in all excel sheets is consistent\n",
    "check_met_rxn_order(data_dict)\n",
    "\n",
    "# check metabolite lists separators in kinetics sheet\n",
    "check_kinetics_met_separators(data_dict)\n",
    "\n",
    "# checks if metabolite names in subtrate/product order columns are indeed substrates/products of the respective reaction\n",
    "check_kinetics_subs_prod_order(data_dict)\n",
    "\n",
    "# checks if massAction/diffusion/freeExchange mechanism come after other enzyme mechanisms and fixedExchange comes at the end\n",
    "check_rxn_mechanism_order(data_dict)\n",
    "\n",
    "\n",
    "# check if fluxes and Gibbs energies are compatible\n",
    "check_thermodynamic_feasibility(data_dict)\n",
    "\n",
    "# check consistency between stoic sheet and mets sheet, take the results with a grain of salt, there are false positives\n",
    "check_balanced_metabolites(data_dict)\n",
    "\n",
    "\n",
    "# check if all metabolites marked as balanced are indeed mass balance, only works if fluxes for all reactions are\n",
    "# either specified or can be calculated\n",
    "check_flux_balance(data_dict)"
   ]
  },
  {
   "cell_type": "markdown",
   "metadata": {},
   "source": [
    "## Visualize thermodynamic consistency"
   ]
  },
  {
   "cell_type": "code",
   "execution_count": 10,
   "metadata": {},
   "outputs": [],
   "source": [
    "import altair as alt"
   ]
  },
  {
   "cell_type": "markdown",
   "metadata": {},
   "source": [
    "#### Define function for visualization"
   ]
  },
  {
   "cell_type": "code",
   "execution_count": 11,
   "metadata": {},
   "outputs": [],
   "source": [
    "def plot_dG_and_flux(dG_df, flux_df, height=400, width=600):\n",
    "    threshold_df = pd.DataFrame([{\"ThresholdValue\": 0, \"Threshold\": \"hazardous\"}])\n",
    "    \n",
    "    rect_dG = alt.Chart(dG_df).mark_rect().encode(\n",
    "        y ='rxn:N',\n",
    "        x='∆G_min',\n",
    "        x2='∆G_max'\n",
    "    ).properties(\n",
    "        height=height,\n",
    "        width=width\n",
    "    )\n",
    "\n",
    "    point_dG = alt.Chart(dG_df).mark_point(size=100, color='red', filled=True).encode(\n",
    "        y ='rxn:N',\n",
    "        x='∆G_mean',\n",
    "        tooltip=['rxn', '∆G_min', '∆G_mean', '∆G_max']\n",
    "    ).interactive()\n",
    "\n",
    "\n",
    "    rule_dG = alt.Chart(threshold_df).mark_rule().encode(\n",
    "        x='ThresholdValue:Q'\n",
    "    )\n",
    "\n",
    "\n",
    "    rect_flux = alt.Chart(flux_df).mark_rect().encode(\n",
    "        y ='rxn:N',\n",
    "        x='flux_min:Q',\n",
    "        x2='flux_max:Q'\n",
    "    ).properties(\n",
    "        height=height,\n",
    "        width=width\n",
    "    )\n",
    "\n",
    "    point_flux = alt.Chart(flux_df).mark_point(size=100, color='red', filled=True).encode(\n",
    "        y ='rxn:N',\n",
    "        x='flux',\n",
    "        tooltip=['rxn', 'flux_min', 'flux', 'flux_max']\n",
    "    ).interactive()\n",
    "\n",
    "\n",
    "    rule_flux = alt.Chart(threshold_df).mark_rule().encode(\n",
    "        x='ThresholdValue:Q'\n",
    "    )\n",
    "\n",
    "    return alt.hconcat(rect_dG + point_dG + rule_dG, rect_flux + point_flux + rule_flux)"
   ]
  },
  {
   "cell_type": "code",
   "execution_count": 12,
   "metadata": {},
   "outputs": [
    {
     "name": "stdout",
     "output_type": "stream",
     "text": [
      "\n",
      "Checking if fluxes and Gibbs energies are compatible.\n",
      "\n",
      "Everything seems to be OK.\n"
     ]
    }
   ],
   "source": [
    "# Get flux and Gibbs energies info from check_thermodynamic_feasibility\n",
    "flag, flux_df, dG_df = check_thermodynamic_feasibility(data_dict) \n",
    "\n",
    "# Modify dataframes\n",
    "dG_df['rxn'] = dG_df.index\n",
    "\n",
    "flux_df['rxn'] = flux_df.index\n",
    "flux_df['flux_min'] = flux_df['vref_mean (mmol/L/h)'] - flux_df['vref_std (mmol/L/h)']\n",
    "flux_df['flux_max'] = flux_df['vref_mean (mmol/L/h)'] + flux_df['vref_std (mmol/L/h)']\n",
    "flux_df['flux'] = flux_df['vref_mean (mmol/L/h)']"
   ]
  },
  {
   "cell_type": "markdown",
   "metadata": {},
   "source": [
    "If the actions button shows up over the plot, run the following line."
   ]
  },
  {
   "cell_type": "code",
   "execution_count": 13,
   "metadata": {},
   "outputs": [
    {
     "data": {
      "text/plain": [
       "RendererRegistry.enable('default')"
      ]
     },
     "execution_count": 13,
     "metadata": {},
     "output_type": "execute_result"
    }
   ],
   "source": [
    "alt.renderers.set_embed_options(actions=False)"
   ]
  },
  {
   "cell_type": "code",
   "execution_count": 14,
   "metadata": {},
   "outputs": [
    {
     "data": {
      "text/html": [
       "\n",
       "<div id=\"altair-viz-e407deaa8648490297979155288c5310\"></div>\n",
       "<script type=\"text/javascript\">\n",
       "  (function(spec, embedOpt){\n",
       "    const outputDiv = document.getElementById(\"altair-viz-e407deaa8648490297979155288c5310\");\n",
       "    const paths = {\n",
       "      \"vega\": \"https://cdn.jsdelivr.net/npm//vega@5?noext\",\n",
       "      \"vega-lib\": \"https://cdn.jsdelivr.net/npm//vega-lib?noext\",\n",
       "      \"vega-lite\": \"https://cdn.jsdelivr.net/npm//vega-lite@4.0.2?noext\",\n",
       "      \"vega-embed\": \"https://cdn.jsdelivr.net/npm//vega-embed@6?noext\",\n",
       "    };\n",
       "\n",
       "    function loadScript(lib) {\n",
       "      return new Promise(function(resolve, reject) {\n",
       "        var s = document.createElement('script');\n",
       "        s.src = paths[lib];\n",
       "        s.async = true;\n",
       "        s.onload = () => resolve(paths[lib]);\n",
       "        s.onerror = () => reject(`Error loading script: ${paths[lib]}`);\n",
       "        document.getElementsByTagName(\"head\")[0].appendChild(s);\n",
       "      });\n",
       "    }\n",
       "\n",
       "    function showError(err) {\n",
       "      outputDiv.innerHTML = `<div class=\"error\" style=\"color:red;\">${err}</div>`;\n",
       "      throw err;\n",
       "    }\n",
       "\n",
       "    function displayChart(vegaEmbed) {\n",
       "      vegaEmbed(outputDiv, spec, embedOpt)\n",
       "        .catch(err => showError(`Javascript Error: ${err.message}<br>This usually means there's a typo in your chart specification. See the javascript console for the full traceback.`));\n",
       "    }\n",
       "\n",
       "    if(typeof define === \"function\" && define.amd) {\n",
       "      requirejs.config({paths});\n",
       "      require([\"vega-embed\"], displayChart, err => showError(`Error loading script: ${err.message}`));\n",
       "    } else if (typeof vegaEmbed === \"function\") {\n",
       "      displayChart(vegaEmbed);\n",
       "    } else {\n",
       "      loadScript(\"vega\")\n",
       "        .then(() => loadScript(\"vega-lite\"))\n",
       "        .then(() => loadScript(\"vega-embed\"))\n",
       "        .catch(showError)\n",
       "        .then(() => displayChart(vegaEmbed));\n",
       "    }\n",
       "  })({\"config\": {\"view\": {\"continuousWidth\": 400, \"continuousHeight\": 300}}, \"hconcat\": [{\"layer\": [{\"mark\": \"rect\", \"encoding\": {\"x\": {\"type\": \"quantitative\", \"field\": \"\\u2206G_min\"}, \"x2\": {\"field\": \"\\u2206G_max\"}, \"y\": {\"type\": \"nominal\", \"field\": \"rxn\"}}, \"height\": 1000, \"width\": 400}, {\"mark\": {\"type\": \"point\", \"color\": \"red\", \"filled\": true, \"size\": 100}, \"encoding\": {\"tooltip\": [{\"type\": \"nominal\", \"field\": \"rxn\"}, {\"type\": \"quantitative\", \"field\": \"\\u2206G_min\"}, {\"type\": \"quantitative\", \"field\": \"\\u2206G_mean\"}, {\"type\": \"quantitative\", \"field\": \"\\u2206G_max\"}], \"x\": {\"type\": \"quantitative\", \"field\": \"\\u2206G_mean\"}, \"y\": {\"type\": \"nominal\", \"field\": \"rxn\"}}, \"selection\": {\"selector001\": {\"type\": \"interval\", \"bind\": \"scales\", \"encodings\": [\"x\", \"y\"]}}}, {\"data\": {\"name\": \"data-d7255ad842f014c46f35befde053a015\"}, \"mark\": \"rule\", \"encoding\": {\"x\": {\"type\": \"quantitative\", \"field\": \"ThresholdValue\"}}}], \"data\": {\"name\": \"data-3049df9ba71b03ddb040de64f8c52543\"}}, {\"layer\": [{\"mark\": \"rect\", \"encoding\": {\"x\": {\"type\": \"quantitative\", \"field\": \"flux_min\"}, \"x2\": {\"field\": \"flux_max\"}, \"y\": {\"type\": \"nominal\", \"field\": \"rxn\"}}, \"height\": 1000, \"width\": 400}, {\"mark\": {\"type\": \"point\", \"color\": \"red\", \"filled\": true, \"size\": 100}, \"encoding\": {\"tooltip\": [{\"type\": \"nominal\", \"field\": \"rxn\"}, {\"type\": \"quantitative\", \"field\": \"flux_min\"}, {\"type\": \"quantitative\", \"field\": \"flux\"}, {\"type\": \"quantitative\", \"field\": \"flux_max\"}], \"x\": {\"type\": \"quantitative\", \"field\": \"flux\"}, \"y\": {\"type\": \"nominal\", \"field\": \"rxn\"}}, \"selection\": {\"selector002\": {\"type\": \"interval\", \"bind\": \"scales\", \"encodings\": [\"x\", \"y\"]}}}, {\"data\": {\"name\": \"data-d7255ad842f014c46f35befde053a015\"}, \"mark\": \"rule\", \"encoding\": {\"x\": {\"type\": \"quantitative\", \"field\": \"ThresholdValue\"}}}], \"data\": {\"name\": \"data-edea5352c4715af34d210a283c7970dc\"}}], \"$schema\": \"https://vega.github.io/schema/vega-lite/v4.0.2.json\", \"datasets\": {\"data-3049df9ba71b03ddb040de64f8c52543\": [{\"\\u2206G_min\": -82.90177382052882, \"\\u2206G_mean\": -4.806499797216214, \"\\u2206G_max\": 24.356993056192504, \"rxn\": \"R_G6PDH2_NADP\"}, {\"\\u2206G_min\": -86.18249213952596, \"\\u2206G_mean\": -8.471112094980679, \"\\u2206G_max\": 20.538308024540992, \"rxn\": \"R_G6PDH2_NAD\"}, {\"\\u2206G_min\": -60.679036228992786, \"\\u2206G_mean\": -44.656615310647155, \"\\u2206G_max\": 19.778781484251617, \"rxn\": \"R_PGL\"}, {\"\\u2206G_min\": -84.74878148425162, \"\\u2206G_mean\": -19.383384689352834, \"\\u2206G_max\": -2.430963771007214, \"rxn\": \"R_EDD\"}, {\"\\u2206G_min\": -78.25773202522825, \"\\u2206G_mean\": -0.6384531611787914, \"\\u2206G_max\": 65.94465951235314, \"rxn\": \"R_EDA\"}, {\"\\u2206G_min\": -12.761418884834509, \"\\u2206G_mean\": 1.303111320167888, \"\\u2206G_max\": 15.493643405920512, \"rxn\": \"R_PGI\"}, {\"\\u2206G_min\": -97.76237104619892, \"\\u2206G_mean\": -22.21560191722829, \"\\u2206G_max\": -5.976516777597161, \"rxn\": \"R_FBP\"}, {\"\\u2206G_min\": -33.748554776146925, \"\\u2206G_mean\": -17.678038444951163, \"\\u2206G_max\": 58.10634131491254, \"rxn\": \"R_FBA\"}, {\"\\u2206G_min\": -30.751476658101737, \"\\u2206G_mean\": -15.973420362094648, \"\\u2206G_max\": 47.33161553257004, \"rxn\": \"R_TPI\"}, {\"\\u2206G_min\": -73.95307827457134, \"\\u2206G_mean\": 4.515537395744824, \"\\u2206G_max\": 142.65973386116852, \"rxn\": \"R_GAPD\"}, {\"\\u2206G_min\": -90.77494733056567, \"\\u2206G_mean\": -13.020506819622655, \"\\u2206G_max\": 64.11992792246028, \"rxn\": \"R_PGK\"}, {\"\\u2206G_min\": -58.87302389421388, \"\\u2206G_mean\": 4.25, \"\\u2206G_max\": 67.37302389421389, \"rxn\": \"R_PGM\"}, {\"\\u2206G_min\": -16.10603790762169, \"\\u2206G_mean\": -1.9320204126115574, \"\\u2206G_max\": 61.12178614807247, \"rxn\": \"R_ENO\"}, {\"\\u2206G_min\": -52.5921169728025, \"\\u2206G_mean\": -23.156340673358176, \"\\u2206G_max\": 5.067854402429564, \"rxn\": \"R_PYK\"}, {\"\\u2206G_min\": -58.97947986637258, \"\\u2206G_mean\": 8.766310760749858, \"\\u2206G_max\": 28.22988777699491, \"rxn\": \"R_EX_pyr\"}, {\"\\u2206G_min\": -59.96332965366969, \"\\u2206G_mean\": 7.78047690701434, \"\\u2206G_max\": 26.644494402024474, \"rxn\": \"R_EX_pep\"}, {\"\\u2206G_min\": -62.28761740514906, \"\\u2206G_mean\": 5.4554929097034295, \"\\u2206G_max\": 24.139442305819653, \"rxn\": \"R_EX_g6p\"}, {\"\\u2206G_min\": -54.0672379786544, \"\\u2206G_mean\": 13.678158816244377, \"\\u2206G_max\": 33.010579734589996, \"rxn\": \"R_EX_6pgc\"}, {\"\\u2206G_min\": -67.75302389421388, \"\\u2206G_mean\": 0.0, \"\\u2206G_max\": 67.75302389421388, \"rxn\": \"R_EX_g3p\"}, {\"\\u2206G_min\": -58.455000473228736, \"\\u2206G_mean\": 9.288604229871318, \"\\u2206G_max\": 28.09904989498533, \"rxn\": \"R_EX_f6p\"}, {\"\\u2206G_min\": -67.75302389421388, \"\\u2206G_mean\": 0.0, \"\\u2206G_max\": 67.75302389421388, \"rxn\": \"R_EX_3pg\"}], \"data-d7255ad842f014c46f35befde053a015\": [{\"ThresholdValue\": 0, \"Threshold\": \"hazardous\"}], \"data-edea5352c4715af34d210a283c7970dc\": [{\"vref_mean (mmol/L/h)\": 292.5, \"vref_std (mmol/L/h)\": 70, \"rxn\": \"R_G6PDH2_NADP\", \"flux_min\": 222.5, \"flux_max\": 362.5, \"flux\": 292.5}, {\"vref_mean (mmol/L/h)\": 292.5, \"vref_std (mmol/L/h)\": 70, \"rxn\": \"R_G6PDH2_NAD\", \"flux_min\": 222.5, \"flux_max\": 362.5, \"flux\": 292.5}, {\"vref_mean (mmol/L/h)\": 1170.0, \"vref_std (mmol/L/h)\": 70, \"rxn\": \"R_PGL\", \"flux_min\": 1100.0, \"flux_max\": 1240.0, \"flux\": 1170.0}, {\"vref_mean (mmol/L/h)\": 6110.0, \"vref_std (mmol/L/h)\": 40, \"rxn\": \"R_EDD\", \"flux_min\": 6070.0, \"flux_max\": 6150.0, \"flux\": 6110.0}, {\"vref_mean (mmol/L/h)\": 6110.0, \"vref_std (mmol/L/h)\": 40, \"rxn\": \"R_EDA\", \"flux_min\": 6070.0, \"flux_max\": 6150.0, \"flux\": 6110.0}, {\"vref_mean (mmol/L/h)\": 570.0, \"vref_std (mmol/L/h)\": 40, \"rxn\": \"R_PGI\", \"flux_min\": 530.0, \"flux_max\": 610.0, \"flux\": 570.0}, {\"vref_mean (mmol/L/h)\": 460.0, \"vref_std (mmol/L/h)\": 30, \"rxn\": \"R_FBP\", \"flux_min\": 430.0, \"flux_max\": 490.0, \"flux\": 460.0}, {\"vref_mean (mmol/L/h)\": 460.0, \"vref_std (mmol/L/h)\": 30, \"rxn\": \"R_FBA\", \"flux_min\": 430.0, \"flux_max\": 490.0, \"flux\": 460.0}, {\"vref_mean (mmol/L/h)\": 460.0, \"vref_std (mmol/L/h)\": 30, \"rxn\": \"R_TPI\", \"flux_min\": 430.0, \"flux_max\": 490.0, \"flux\": 460.0}, {\"vref_mean (mmol/L/h)\": 5110.0, \"vref_std (mmol/L/h)\": 40, \"rxn\": \"R_GAPD\", \"flux_min\": 5070.0, \"flux_max\": 5150.0, \"flux\": 5110.0}, {\"vref_mean (mmol/L/h)\": 5110.0, \"vref_std (mmol/L/h)\": 40, \"rxn\": \"R_PGK\", \"flux_min\": 5070.0, \"flux_max\": 5150.0, \"flux\": 5110.0}, {\"vref_mean (mmol/L/h)\": 4360.0, \"vref_std (mmol/L/h)\": 70, \"rxn\": \"R_PGM\", \"flux_min\": 4290.0, \"flux_max\": 4430.0, \"flux\": 4360.0}, {\"vref_mean (mmol/L/h)\": 4360.0, \"vref_std (mmol/L/h)\": 70, \"rxn\": \"R_ENO\", \"flux_min\": 4290.0, \"flux_max\": 4430.0, \"flux\": 4360.0}, {\"vref_mean (mmol/L/h)\": 3890.0, \"vref_std (mmol/L/h)\": 80, \"rxn\": \"R_PYK\", \"flux_min\": 3810.0, \"flux_max\": 3970.0, \"flux\": 3890.0}, {\"vref_mean (mmol/L/h)\": 10000.0, \"vref_std (mmol/L/h)\": 100, \"rxn\": \"R_EX_pyr\", \"flux_min\": 9900.0, \"flux_max\": 10100.0, \"flux\": 10000.0}, {\"vref_mean (mmol/L/h)\": 470.0, \"vref_std (mmol/L/h)\": 47, \"rxn\": \"R_EX_pep\", \"flux_min\": 423.0, \"flux_max\": 517.0, \"flux\": 470.0}, {\"vref_mean (mmol/L/h)\": 30.0, \"vref_std (mmol/L/h)\": 3, \"rxn\": \"R_EX_g6p\", \"flux_min\": 27.0, \"flux_max\": 33.0, \"flux\": 30.0}, {\"vref_mean (mmol/L/h)\": 20.0, \"vref_std (mmol/L/h)\": 2, \"rxn\": \"R_EX_6pgc\", \"flux_min\": 18.0, \"flux_max\": 22.0, \"flux\": 20.0}, {\"vref_mean (mmol/L/h)\": 90.0, \"vref_std (mmol/L/h)\": 9, \"rxn\": \"R_EX_g3p\", \"flux_min\": 81.0, \"flux_max\": 99.0, \"flux\": 90.0}, {\"vref_mean (mmol/L/h)\": 50.0, \"vref_std (mmol/L/h)\": 5, \"rxn\": \"R_EX_f6p\", \"flux_min\": 45.0, \"flux_max\": 55.0, \"flux\": 50.0}, {\"vref_mean (mmol/L/h)\": 750.0, \"vref_std (mmol/L/h)\": 75, \"rxn\": \"R_EX_3pg\", \"flux_min\": 675.0, \"flux_max\": 825.0, \"flux\": 750.0}]}}, {\"actions\": false, \"mode\": \"vega-lite\"});\n",
       "</script>"
      ],
      "text/plain": [
       "alt.HConcatChart(...)"
      ]
     },
     "execution_count": 14,
     "metadata": {},
     "output_type": "execute_result"
    }
   ],
   "source": [
    "# Plot reactions fluxes and respective Gibbs energies\n",
    "height=1000\n",
    "width=400\n",
    "plot_dG_and_flux(dG_df,  flux_df, height, width)"
   ]
  },
  {
   "cell_type": "markdown",
   "metadata": {},
   "source": [
    "# Misc"
   ]
  },
  {
   "cell_type": "markdown",
   "metadata": {},
   "source": [
    "### Reorder reactions in the model"
   ]
  },
  {
   "cell_type": "code",
   "execution_count": 15,
   "metadata": {},
   "outputs": [],
   "source": [
    "from set_up_grasp_models.set_up_models.manipulate_model import remove_spaces, reorder_reactions, rename_columns"
   ]
  },
  {
   "cell_type": "code",
   "execution_count": 16,
   "metadata": {},
   "outputs": [],
   "source": [
    "# list with reaction order\n",
    "rxn_order = ['R_PGL', 'R_EDD', 'R_EDA', 'R_PGI', 'R_FBP', 'R_FBA', 'R_TPI', 'R_GAPD',\n",
    "             'R_PGK', 'R_PGM', 'R_ENO', 'R_PYK', 'R_G6PDH2','R_EX_pyr', 'R_EX_pep', \n",
    "             'R_EX_g6p', 'R_EX_6pgc', 'R_EX_g3p', 'R_EX_f6p', 'R_EX_3pg']\n",
    "\n",
    "# path to current model\n",
    "model_name = 'glycolysis_v2'\n",
    "file_in = os.path.join('example_files', 'output', model_name + '.xlsx')\n",
    "\n",
    "# import current model with pandas\n",
    "data_dict = pd.read_excel(file_in, sheet_name=None, index_col=0)\n",
    "\n",
    "# path to the model with re-ordered reactions - just substitute current one\n",
    "file_out = file_in\n",
    "\n",
    "# re-order reactions according to rxn_list\n",
    "reorder_reactions(data_dict, rxn_order, file_out)"
   ]
  },
  {
   "cell_type": "markdown",
   "metadata": {},
   "source": [
    "### Rename columns in the model"
   ]
  },
  {
   "cell_type": "code",
   "execution_count": 17,
   "metadata": {},
   "outputs": [],
   "source": [
    "# path to current model\n",
    "model_name = 'glycolysis_v2'\n",
    "file_in = os.path.join('example_files', 'output', model_name + '.xlsx')\n",
    "\n",
    "# import current model with pandas\n",
    "data_dict = pd.read_excel(file_in, sheet_name=None, index_col=0)\n",
    "\n",
    "# path to the model with re-ordered reactions - just substitute current one\n",
    "file_out = file_in\n",
    "\n",
    "# renames columns names, so that they are standard and cause no problems with other functions\n",
    "rename_columns(data_dict, file_out)"
   ]
  },
  {
   "cell_type": "markdown",
   "metadata": {},
   "source": [
    "### Remove all leading and trailing spaces in all string cells"
   ]
  },
  {
   "cell_type": "code",
   "execution_count": 18,
   "metadata": {},
   "outputs": [],
   "source": [
    "# path to current model\n",
    "model_name = 'glycolysis_v2'\n",
    "file_in = os.path.join('example_files', 'output', model_name + '.xlsx')\n",
    "\n",
    "# import current model with pandas\n",
    "data_dict = pd.read_excel(file_in, sheet_name=None, index_col=0)\n",
    "\n",
    "# path to the model with re-ordered reactions - just substitute current one\n",
    "file_out = file_in\n",
    "\n",
    "# remove any leading or trailing spaces in all string cells\n",
    "remove_spaces(data_dict, file_out)"
   ]
  },
  {
   "cell_type": "markdown",
   "metadata": {},
   "source": [
    "### Get plain text file with reaction list from GRASP excel input file"
   ]
  },
  {
   "cell_type": "code",
   "execution_count": 19,
   "metadata": {},
   "outputs": [],
   "source": [
    "from set_up_grasp_models.io.stoic import import_stoic\n",
    "from set_up_grasp_models.io.plaintext import write_to_plaintext"
   ]
  },
  {
   "cell_type": "code",
   "execution_count": 20,
   "metadata": {},
   "outputs": [],
   "source": [
    "input_file = os.path.join('example_files', 'model_v2.3.xlsx')\n",
    "file_out = os.path.join('example_files', 'output', 'model_reaction_list.txt')\n",
    "\n",
    "mets, rxns, rxn_list = import_stoic(input_file)\n",
    "\n",
    "write_to_plaintext(rxn_list, file_out)"
   ]
  },
  {
   "cell_type": "code",
   "execution_count": null,
   "metadata": {},
   "outputs": [],
   "source": []
  }
 ],
 "metadata": {
  "kernelspec": {
   "display_name": "Python 3",
   "language": "python",
   "name": "python3"
  },
  "language_info": {
   "codemirror_mode": {
    "name": "ipython",
    "version": 3
   },
   "file_extension": ".py",
   "mimetype": "text/x-python",
   "name": "python",
   "nbconvert_exporter": "python",
   "pygments_lexer": "ipython3",
   "version": "3.7.0"
  }
 },
 "nbformat": 4,
 "nbformat_minor": 4
}
