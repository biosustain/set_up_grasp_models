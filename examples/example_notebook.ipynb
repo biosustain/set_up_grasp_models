{
 "cells": [
  {
   "cell_type": "markdown",
   "metadata": {},
   "source": [
    "# Generate a model from scratch"
   ]
  },
  {
   "cell_type": "code",
   "execution_count": 1,
   "metadata": {},
   "outputs": [
    {
     "name": "stdout",
     "output_type": "stream",
     "text": [
      "Downloading package metadata...\n",
      "Fragments already downloaded\n",
      "Downloading package metadata...\n",
      "Fragments already downloaded\n"
     ]
    }
   ],
   "source": [
    "from set_up_grasp_models.set_up_models.set_up_model import set_up_model\n",
    "import os"
   ]
  },
  {
   "cell_type": "code",
   "execution_count": 2,
   "metadata": {},
   "outputs": [],
   "source": [
    "# file with model reactions\n",
    "file_in_stoic = os.path.join('example_files', 'glycolysis_example.txt')\n",
    "# GRASP input file with general sheet\n",
    "base_excel_file = os.path.join('..', 'base_files', 'GRASP_general.xlsx')\n",
    "\n",
    "# define model name\n",
    "model_name = 'glycolysis_v1'\n",
    "# define output file\n",
    "file_out = os.path.join('example_files', 'output', model_name + '.xlsx')\n",
    "\n",
    "# generate model\n",
    "set_up_model(model_name, file_in_stoic, base_excel_file, file_out)"
   ]
  },
  {
   "cell_type": "markdown",
   "metadata": {},
   "source": [
    "### Optionally fill in Gibbs energies"
   ]
  },
  {
   "cell_type": "code",
   "execution_count": 3,
   "metadata": {},
   "outputs": [],
   "source": [
    "# file with model reactions\n",
    "file_in_stoic = os.path.join('example_files', 'glycolysis_example.txt')\n",
    "# GRASP input file with general sheet\n",
    "base_excel_file = os.path.join('..', 'base_files', 'GRASP_general.xlsx')\n",
    "\n",
    "# define model name\n",
    "model_name = 'glycolysis_v1_gibbs'\n",
    "# define output file\n",
    "file_out = os.path.join('example_files', 'output', model_name + '.xlsx')\n",
    "\n",
    "# generate model\n",
    "set_up_model(model_name, file_in_stoic, base_excel_file, file_out, use_equilibrator=True)"
   ]
  },
  {
   "cell_type": "markdown",
   "metadata": {},
   "source": [
    "### Optionally provide metabolomics data"
   ]
  },
  {
   "cell_type": "code",
   "execution_count": 4,
   "metadata": {},
   "outputs": [],
   "source": [
    "# file with model reactions\n",
    "file_in_stoic = os.path.join('example_files', 'glycolysis_example.txt')\n",
    "# GRASP input file with general sheet\n",
    "base_excel_file = os.path.join('..', 'base_files', 'GRASP_general.xlsx')\n",
    "\n",
    "# define metabolomics input file\n",
    "file_in_mets_conc = os.path.join('example_files', 'met_concs.xlsx')\n",
    "\n",
    "# define model name\n",
    "model_name = 'glycolysis_v1_gibbs_metabolomics'\n",
    "# define output file\n",
    "file_out = os.path.join('example_files', 'output', model_name + '.xlsx')\n",
    "\n",
    "# generate model\n",
    "set_up_model(model_name, file_in_stoic, base_excel_file, file_out, use_equilibrator=True,\n",
    "             file_in_mets_conc=file_in_mets_conc)"
   ]
  },
  {
   "cell_type": "markdown",
   "metadata": {},
   "source": [
    "### Generate GRASP mechanism patterns from elementary reactions"
   ]
  },
  {
   "cell_type": "code",
   "execution_count": 5,
   "metadata": {},
   "outputs": [],
   "source": [
    "from set_up_grasp_models.set_up_models.convert_mechanisms import generate_mechanisms"
   ]
  },
  {
   "cell_type": "code",
   "execution_count": 6,
   "metadata": {},
   "outputs": [],
   "source": [
    "# define model name\n",
    "model_name = 'glycolysis_v2'\n",
    "# define input file\n",
    "file_in_model = os.path.join('example_files', 'output', model_name + '.xlsx')\n",
    "\n",
    "# define path to folder with elementary reaction mechanisms\n",
    "mech_in_dir = os.path.join('example_files', 'mechanisms')\n",
    "\n",
    "# define path to folder where the pattern files will be generated\n",
    "pattern_out_dir = os.path.join('/home', 'mrama', 'GRASP_test', 'GRASP', 'patterns')\n",
    "\n",
    "generate_mechanisms(file_in_model, mech_in_dir, pattern_out_dir)"
   ]
  },
  {
   "cell_type": "markdown",
   "metadata": {},
   "source": [
    "# Generate a modified version of an existing model"
   ]
  },
  {
   "cell_type": "code",
   "execution_count": 7,
   "metadata": {},
   "outputs": [],
   "source": [
    "# file with model reactions\n",
    "file_in_stoic = os.path.join('example_files', 'glycolysis_example.txt')\n",
    "# GRASP input file with general sheet\n",
    "base_excel_file = os.path.join('example_files', 'model_v2.3.xlsx')\n",
    "\n",
    "# define metabolomics input file\n",
    "file_in_mets_conc = os.path.join('example_files', 'met_concs.xlsx')\n",
    "\n",
    "# define model name\n",
    "model_name = 'glycolysis_v3'\n",
    "# define output file\n",
    "file_out = os.path.join('example_files', 'output', model_name + '.xlsx')\n",
    "\n",
    "# generate model\n",
    "set_up_model(model_name, file_in_stoic, base_excel_file, file_out)"
   ]
  },
  {
   "cell_type": "markdown",
   "metadata": {},
   "source": [
    "# Check models for consistency"
   ]
  },
  {
   "cell_type": "code",
   "execution_count": 8,
   "metadata": {},
   "outputs": [],
   "source": [
    "from set_up_grasp_models.check_models.format_checks import check_met_rxn_order, check_kinetics_met_separators, \\\n",
    "    check_kinetics_subs_prod_order, check_rxn_mechanism_order\n",
    "from set_up_grasp_models.check_models.thermodynamics_checks import check_thermodynamic_feasibility\n",
    "from set_up_grasp_models.check_models.mass_balance_checks import check_flux_balance, check_balanced_metabolites\n",
    "\n",
    "import pandas as pd"
   ]
  },
  {
   "cell_type": "code",
   "execution_count": 9,
   "metadata": {},
   "outputs": [
    {
     "name": "stdout",
     "output_type": "stream",
     "text": [
      "\n",
      "Checking if the order of reactions and metabolites is the same in all excel sheets.\n",
      "\n",
      "Everything seems to be OK.\n",
      "\n",
      "\n",
      "Checking if values are separated by a space in the kinetics sheet in columns order, promiscuous, inhibitors, activators, negative effector, and positive effector.\n",
      "It looks for dots, commas, and semi-colons.\n",
      "\n",
      "Everything seems to be OK.\n",
      "\n",
      "\n",
      "Checking if the metabolite names in the substrate and product order columns in the kinetics sheet are valid, i.e., if they are indeed substrates and products of the respective reaction.\n",
      "\n",
      "The following metabolites in the substrate order column for reaction R_G6PDH2_NADP are not part of the reaction substrates:\n",
      "{'m_nad_c'}\n",
      "\n",
      "The following metabolites in the product order column for reaction R_G6PDH2_NADP are not part of the reaction products:\n",
      "{'m_nadh_c'}\n",
      "\n",
      "The following metabolites in the substrate order column for reaction R_G6PDH2_NAD are not part of the reaction substrates:\n",
      "{'m_nadp_c'}\n",
      "\n",
      "The following metabolites in the product order column for reaction R_G6PDH2_NAD are not part of the reaction products:\n",
      "{'m_nadph_c'}\n",
      "\n",
      "The following metabolites in the substrate order column for reaction R_PGI are not part of the reaction substrates:\n",
      "{'m_g6p_c'}\n",
      "\n",
      "The following metabolites in the product order column for reaction R_PGI are not part of the reaction products:\n",
      "{'m_f6p_c'}\n",
      "\n",
      "\n",
      "Checking if non enzymatic mechanisms come only after enzymatic ones and if fixedExchange is the very last one.\n",
      "\n",
      "Everything seems to be OK.\n",
      "\n",
      "\n",
      "Checking if fluxes and Gibbs energies are compatible.\n",
      "\n",
      "The flux and ∆G range seem to be incompatible for reaction R_PGI\n",
      "The flux and ∆G range seem to be incompatible for reaction R_ENO\n",
      "\n",
      "Checking if metabolites are both consumed and produced in the stoichiometric matrix, and if so checks if they are marked as balanced in the mets sheet. However, the metabolite might be balanced/not balanced anyways depending on the flux of the reactions that consume/produce it, so take this with a grain of salt.\n",
      "\n",
      "m_nadp_c is marked as balanced but it does not seem to be balanced.\n",
      "m_nadp_c is not set as constant but maybe it should, since it does not seem to be balanced.\n",
      "m_nadph_c is marked as balanced but it does not seem to be balanced.\n",
      "m_nadph_c is not set as constant but maybe it should, since it does not seem to be balanced.\n",
      "m_nad_c is marked as balanced but it does not seem to be balanced.\n",
      "m_nad_c is not set as constant but maybe it should, since it does not seem to be balanced.\n",
      "m_nadh_c is marked as balanced but it does not seem to be balanced.\n",
      "m_nadh_c is not set as constant but maybe it should, since it does not seem to be balanced.\n",
      "m_h2o_c is marked as not balanced but it seems to be balanced.\n",
      "m_pi_c is marked as not balanced but it seems to be balanced.\n",
      "m_adp_c is marked as balanced but it does not seem to be balanced.\n",
      "m_adp_c is not set as constant but maybe it should, since it does not seem to be balanced.\n",
      "m_atp_c is marked as balanced but it does not seem to be balanced.\n",
      "m_atp_c is not set as constant but maybe it should, since it does not seem to be balanced.\n",
      "\n",
      "Checking if the fluxes for each metabolite production/consumptions add up to zero.\n",
      "\n",
      "The flux for m_g6p_c is not balanced. The difference in flux is -45.0\n",
      "The flux for m_nadp_c is not balanced. The difference in flux is -292.5\n",
      "The flux for m_6pgl_c is not balanced. The difference in flux is -585.0\n",
      "The flux for m_nadph_c is not balanced. The difference in flux is 292.5\n",
      "The flux for m_nad_c is not balanced. The difference in flux is -5402.5\n",
      "The flux for m_nadh_c is not balanced. The difference in flux is 5402.5\n",
      "The flux for m_6pgc_c is not balanced. The difference in flux is -4960.0\n",
      "The flux for m_g3p_c is not balanced. The difference in flux is -10.0\n",
      "The flux for m_f6p_c is not balanced. The difference in flux is -160.0\n",
      "The flux for m_adp_c is not balanced. The difference in flux is -9000.0\n",
      "The flux for m_atp_c is not balanced. The difference in flux is 9000.0\n"
     ]
    },
    {
     "data": {
      "text/plain": [
       "True"
      ]
     },
     "execution_count": 9,
     "metadata": {},
     "output_type": "execute_result"
    }
   ],
   "source": [
    "model_name = 'glycolysis_v3'\n",
    "file_in = os.path.join('example_files', 'output', model_name + '.xlsx')\n",
    "data_dict = pd.read_excel(file_in, sheet_name=None, index_col=0)\n",
    "\n",
    "\n",
    "# check if the order of metabolites and reactions in all excel sheets is consistent\n",
    "check_met_rxn_order(data_dict)\n",
    "\n",
    "# check metabolite lists separators in kinetics sheet\n",
    "check_kinetics_met_separators(data_dict)\n",
    "\n",
    "# checks if metabolite names in subtrate/product order columns are indeed substrates/products of the respective reaction\n",
    "check_kinetics_subs_prod_order(data_dict)\n",
    "\n",
    "# checks if massAction/diffusion/freeExchange mechanism come after other enzyme mechanisms and fixedExchange comes at the end\n",
    "check_rxn_mechanism_order(data_dict)\n",
    "\n",
    "\n",
    "# check if fluxes and Gibbs energies are compatible\n",
    "check_thermodynamic_feasibility(data_dict)\n",
    "\n",
    "# check consistency between stoic sheet and mets sheet, take the results with a grain of salt, there are false positives\n",
    "check_balanced_metabolites(data_dict)\n",
    "\n",
    "\n",
    "# check if all metabolites marked as balanced are indeed mass balance, only works if fluxes for all reactions are\n",
    "# either specified or can be calculated\n",
    "check_flux_balance(data_dict)"
   ]
  },
  {
   "cell_type": "markdown",
   "metadata": {},
   "source": [
    "## Visualize thermodynamic consistency"
   ]
  },
  {
   "cell_type": "code",
   "execution_count": 10,
   "metadata": {},
   "outputs": [],
   "source": [
    "import altair as alt"
   ]
  },
  {
   "cell_type": "markdown",
   "metadata": {},
   "source": [
    "#### Define function for visualization"
   ]
  },
  {
   "cell_type": "code",
   "execution_count": 11,
   "metadata": {},
   "outputs": [],
   "source": [
    "def plot_dG_and_flux(dG_df, flux_df, height=400, width=600):\n",
    "    threshold_df = pd.DataFrame([{\"ThresholdValue\": 0, \"Threshold\": \"hazardous\"}])\n",
    "    \n",
    "    rect_dG = alt.Chart(dG_df).mark_rect().encode(\n",
    "        y ='rxn:N',\n",
    "        x='∆G_min',\n",
    "        x2='∆G_max'\n",
    "    ).properties(\n",
    "        height=height,\n",
    "        width=width\n",
    "    )\n",
    "\n",
    "    point_dG = alt.Chart(dG_df).mark_point(size=100, color='red', filled=True).encode(\n",
    "        y ='rxn:N',\n",
    "        x='∆G_mean',\n",
    "        tooltip=['rxn', '∆G_min', '∆G_mean', '∆G_max']\n",
    "    ).interactive()\n",
    "\n",
    "\n",
    "    rule_dG = alt.Chart(threshold_df).mark_rule().encode(\n",
    "        x='ThresholdValue:Q'\n",
    "    )\n",
    "\n",
    "\n",
    "    rect_flux = alt.Chart(flux_df).mark_rect().encode(\n",
    "        y ='rxn:N',\n",
    "        x='flux_min:Q',\n",
    "        x2='flux_max:Q'\n",
    "    ).properties(\n",
    "        height=height,\n",
    "        width=width\n",
    "    )\n",
    "\n",
    "    point_flux = alt.Chart(flux_df).mark_point(size=100, color='red', filled=True).encode(\n",
    "        y ='rxn:N',\n",
    "        x='flux',\n",
    "        tooltip=['rxn', 'flux_min', 'flux', 'flux_max']\n",
    "    ).interactive()\n",
    "\n",
    "\n",
    "    rule_flux = alt.Chart(threshold_df).mark_rule().encode(\n",
    "        x='ThresholdValue:Q'\n",
    "    )\n",
    "\n",
    "    return alt.hconcat(rect_dG + point_dG + rule_dG, rect_flux + point_flux + rule_flux)"
   ]
  },
  {
   "cell_type": "code",
   "execution_count": 12,
   "metadata": {},
   "outputs": [
    {
     "name": "stdout",
     "output_type": "stream",
     "text": [
      "\n",
      "Checking if fluxes and Gibbs energies are compatible.\n",
      "\n",
      "The flux and ∆G range seem to be incompatible for reaction R_PGI\n",
      "The flux and ∆G range seem to be incompatible for reaction R_ENO\n"
     ]
    }
   ],
   "source": [
    "# Get flux and Gibbs energies info from check_thermodynamic_feasibility\n",
    "flag, flux_df, dG_df = check_thermodynamic_feasibility(data_dict) \n",
    "\n",
    "# Modify dataframes\n",
    "dG_df['rxn'] = dG_df.index\n",
    "\n",
    "flux_df['rxn'] = flux_df.index\n",
    "flux_df['flux_min'] = flux_df['vref_mean (mmol/L/h)'] - flux_df['vref_std (mmol/L/h)']\n",
    "flux_df['flux_max'] = flux_df['vref_mean (mmol/L/h)'] + flux_df['vref_std (mmol/L/h)']\n",
    "flux_df['flux'] = flux_df['vref_mean (mmol/L/h)']"
   ]
  },
  {
   "cell_type": "markdown",
   "metadata": {},
   "source": [
    "If the actions button shows up over the plot, run the following line."
   ]
  },
  {
   "cell_type": "code",
   "execution_count": 13,
   "metadata": {},
   "outputs": [
    {
     "data": {
      "text/plain": [
       "RendererRegistry.enable('default')"
      ]
     },
     "execution_count": 13,
     "metadata": {},
     "output_type": "execute_result"
    }
   ],
   "source": [
    "alt.renderers.set_embed_options(actions=False)"
   ]
  },
  {
   "cell_type": "code",
   "execution_count": 14,
   "metadata": {},
   "outputs": [
    {
     "data": {
      "application/vnd.vegalite.v3+json": {
       "$schema": "https://vega.github.io/schema/vega-lite/v3.4.0.json",
       "config": {
        "mark": {
         "tooltip": null
        },
        "view": {
         "height": 300,
         "width": 400
        }
       },
       "datasets": {
        "data-1e1963336ba2dedac71c151277b9baa6": [
         {
          "flux": 292.5,
          "flux_max": 362.5,
          "flux_min": 222.5,
          "rxn": "R_G6PDH2_NADP",
          "vref_mean (mmol/L/h)": 292.5,
          "vref_mean2 (mmol/L/h)": 292.5,
          "vref_std (mmol/L/h)": 70,
          "vref_std2 (mmol/L/h)": 70
         },
         {
          "flux": 292.5,
          "flux_max": 362.5,
          "flux_min": 222.5,
          "rxn": "R_G6PDH2_NAD",
          "vref_mean (mmol/L/h)": 292.5,
          "vref_mean2 (mmol/L/h)": 292.5,
          "vref_std (mmol/L/h)": 70,
          "vref_std2 (mmol/L/h)": 70
         },
         {
          "flux": 1170,
          "flux_max": 1240,
          "flux_min": 1100,
          "rxn": "R_PGL",
          "vref_mean (mmol/L/h)": 1170,
          "vref_mean2 (mmol/L/h)": 1170,
          "vref_std (mmol/L/h)": 70,
          "vref_std2 (mmol/L/h)": 70
         },
         {
          "flux": 6110,
          "flux_max": 6150,
          "flux_min": 6070,
          "rxn": "R_EDD",
          "vref_mean (mmol/L/h)": 6110,
          "vref_mean2 (mmol/L/h)": 6110,
          "vref_std (mmol/L/h)": 40,
          "vref_std2 (mmol/L/h)": 40
         },
         {
          "flux": 6110,
          "flux_max": 6150,
          "flux_min": 6070,
          "rxn": "R_EDA",
          "vref_mean (mmol/L/h)": 6110,
          "vref_mean2 (mmol/L/h)": 6110,
          "vref_std (mmol/L/h)": 40,
          "vref_std2 (mmol/L/h)": 40
         },
         {
          "flux": 570,
          "flux_max": 610,
          "flux_min": 530,
          "rxn": "R_PGI",
          "vref_mean (mmol/L/h)": 570,
          "vref_mean2 (mmol/L/h)": 570,
          "vref_std (mmol/L/h)": 40,
          "vref_std2 (mmol/L/h)": 40
         },
         {
          "flux": 460,
          "flux_max": 490,
          "flux_min": 430,
          "rxn": "R_FBP",
          "vref_mean (mmol/L/h)": 460,
          "vref_mean2 (mmol/L/h)": 460,
          "vref_std (mmol/L/h)": 30,
          "vref_std2 (mmol/L/h)": 30
         },
         {
          "flux": 460,
          "flux_max": 490,
          "flux_min": 430,
          "rxn": "R_FBA",
          "vref_mean (mmol/L/h)": 460,
          "vref_mean2 (mmol/L/h)": 460,
          "vref_std (mmol/L/h)": 30,
          "vref_std2 (mmol/L/h)": 30
         },
         {
          "flux": 460,
          "flux_max": 490,
          "flux_min": 430,
          "rxn": "R_TPI",
          "vref_mean (mmol/L/h)": 460,
          "vref_mean2 (mmol/L/h)": 460,
          "vref_std (mmol/L/h)": 30,
          "vref_std2 (mmol/L/h)": 30
         },
         {
          "flux": 5110,
          "flux_max": 5150,
          "flux_min": 5070,
          "rxn": "R_GAPD",
          "vref_mean (mmol/L/h)": 5110,
          "vref_mean2 (mmol/L/h)": 5110,
          "vref_std (mmol/L/h)": 40,
          "vref_std2 (mmol/L/h)": 40
         },
         {
          "flux": 5110,
          "flux_max": 5150,
          "flux_min": 5070,
          "rxn": "R_PGK",
          "vref_mean (mmol/L/h)": 5110,
          "vref_mean2 (mmol/L/h)": 5110,
          "vref_std (mmol/L/h)": 40,
          "vref_std2 (mmol/L/h)": 40
         },
         {
          "flux": 4360,
          "flux_max": 4430,
          "flux_min": 4290,
          "rxn": "R_PGM",
          "vref_mean (mmol/L/h)": 4360,
          "vref_mean2 (mmol/L/h)": 4360,
          "vref_std (mmol/L/h)": 70,
          "vref_std2 (mmol/L/h)": 70
         },
         {
          "flux": 4360,
          "flux_max": 4430,
          "flux_min": 4290,
          "rxn": "R_ENO",
          "vref_mean (mmol/L/h)": 4360,
          "vref_mean2 (mmol/L/h)": 4360,
          "vref_std (mmol/L/h)": 70,
          "vref_std2 (mmol/L/h)": 70
         },
         {
          "flux": 3890,
          "flux_max": 3970,
          "flux_min": 3810,
          "rxn": "R_PYK",
          "vref_mean (mmol/L/h)": 3890,
          "vref_mean2 (mmol/L/h)": 3890,
          "vref_std (mmol/L/h)": 80,
          "vref_std2 (mmol/L/h)": 80
         },
         {
          "flux": 10000,
          "flux_max": 10100,
          "flux_min": 9900,
          "rxn": "R_EX_pyr",
          "vref_mean (mmol/L/h)": 10000,
          "vref_mean2 (mmol/L/h)": 10000,
          "vref_std (mmol/L/h)": 100,
          "vref_std2 (mmol/L/h)": 100
         },
         {
          "flux": 470,
          "flux_max": 517,
          "flux_min": 423,
          "rxn": "R_EX_pep",
          "vref_mean (mmol/L/h)": 470,
          "vref_mean2 (mmol/L/h)": 470,
          "vref_std (mmol/L/h)": 47,
          "vref_std2 (mmol/L/h)": 47
         },
         {
          "flux": 30,
          "flux_max": 33,
          "flux_min": 27,
          "rxn": "R_EX_g6p",
          "vref_mean (mmol/L/h)": 30,
          "vref_mean2 (mmol/L/h)": 30,
          "vref_std (mmol/L/h)": 3,
          "vref_std2 (mmol/L/h)": 3
         },
         {
          "flux": 20,
          "flux_max": 22,
          "flux_min": 18,
          "rxn": "R_EX_6pgc",
          "vref_mean (mmol/L/h)": 20,
          "vref_mean2 (mmol/L/h)": 20,
          "vref_std (mmol/L/h)": 2,
          "vref_std2 (mmol/L/h)": 2
         },
         {
          "flux": 90,
          "flux_max": 99,
          "flux_min": 81,
          "rxn": "R_EX_g3p",
          "vref_mean (mmol/L/h)": 90,
          "vref_mean2 (mmol/L/h)": 90,
          "vref_std (mmol/L/h)": 9,
          "vref_std2 (mmol/L/h)": 9
         },
         {
          "flux": 50,
          "flux_max": 55,
          "flux_min": 45,
          "rxn": "R_EX_f6p",
          "vref_mean (mmol/L/h)": 50,
          "vref_mean2 (mmol/L/h)": 50,
          "vref_std (mmol/L/h)": 5,
          "vref_std2 (mmol/L/h)": 5
         },
         {
          "flux": 750,
          "flux_max": 825,
          "flux_min": 675,
          "rxn": "R_EX_3pg",
          "vref_mean (mmol/L/h)": 750,
          "vref_mean2 (mmol/L/h)": 750,
          "vref_std (mmol/L/h)": 75,
          "vref_std2 (mmol/L/h)": 75
         }
        ],
        "data-b5c728ab7417cd423c555c699da0d1da": [
         {
          "rxn": "R_G6PDH2_NADP",
          "∆G_max": 3.3561731171565308,
          "∆G_mean": -0.25274710722467786,
          "∆G_min": -63.16656114381802
         },
         {
          "rxn": "R_G6PDH2_NAD",
          "∆G_max": -0.46251191449497986,
          "∆G_mean": -3.802994006474689,
          "∆G_min": -66.44727946281515
         },
         {
          "rxn": "R_PGL",
          "∆G_max": 13.622246346123063,
          "∆G_mean": -49.44853269221906,
          "∆G_min": -53.25689382853908
         },
         {
          "rxn": "R_EDD",
          "∆G_max": -9.853106171460922,
          "∆G_mean": -14.591467307780928,
          "∆G_min": -78.59224634612306
         },
         {
          "rxn": "R_EDA",
          "∆G_max": 65.49294472824403,
          "∆G_mean": 1.937071804268479,
          "∆G_min": -2.377745376541206
         },
         {
          "rxn": "R_PGI",
          "∆G_max": 1.9149658673382546,
          "∆G_mean": 1.364077515092947,
          "∆G_min": 0.8172586537477571
         },
         {
          "rxn": "R_FBP",
          "∆G_max": -19.55519431617943,
          "∆G_mean": -22.210501501290736,
          "∆G_min": -84.18369350761664
         },
         {
          "rxn": "R_FBA",
          "∆G_max": -23.930180471903043,
          "∆G_mean": -24.91975700996093,
          "∆G_min": -25.87469759158411
         },
         {
          "rxn": "R_TPI",
          "∆G_max": -27.28276385379183,
          "∆G_mean": -28.138400271456184,
          "∆G_min": -29.03415461166748
         },
         {
          "rxn": "R_GAPD",
          "∆G_max": 60.62321207435294,
          "∆G_mean": -2.734833978828938,
          "∆G_min": -66.07922109000852
         },
         {
          "rxn": "R_PGK",
          "∆G_max": 10.607507905741908,
          "∆G_mean": -53.21979398612766,
          "∆G_min": -77.1962697919834
         },
         {
          "rxn": "R_PGM",
          "∆G_max": 27.439281416077776,
          "∆G_mean": 4.25,
          "∆G_min": -18.939281416077776
         },
         {
          "rxn": "R_ENO",
          "∆G_max": 54.965251009943906,
          "∆G_mean": 33.418827289494736,
          "∆G_min": 31.249846970968115
         },
         {
          "rxn": "R_PYK",
          "∆G_max": -22.089500674734953,
          "∆G_mean": -23.686103510255304,
          "∆G_min": -25.434761895637976
         },
         {
          "rxn": "R_EX_pyr",
          "∆G_max": 20.807745376541206,
          "∆G_mean": 13.612928195731522,
          "∆G_min": -52.82294472824402
         },
         {
          "rxn": "R_EX_pep",
          "∆G_max": 19.222352001570773,
          "∆G_mean": 12.363123938255965,
          "∆G_min": -53.80679451554113
         },
         {
          "rxn": "R_EX_g6p",
          "∆G_max": 16.717299905365948,
          "∆G_mean": 9.95183997235425,
          "∆G_min": -56.13108226702051
         },
         {
          "rxn": "R_EX_6pgc",
          "∆G_max": 25.588437334136295,
          "∆G_mean": 18.47007619781628,
          "∆G_min": -47.91070284052585
         },
         {
          "rxn": "R_EX_g3p",
          "∆G_max": -0.7048203540194429,
          "∆G_mean": -7.422142400428932,
          "∆G_min": -73.45784424823331
         },
         {
          "rxn": "R_EX_f6p",
          "∆G_max": 20.67690749453162,
          "∆G_mean": 13.845917487447196,
          "∆G_min": -52.298465335100175
         },
         {
          "rxn": "R_EX_3pg",
          "∆G_max": 67.75302389421388,
          "∆G_mean": 39.93349473334792,
          "∆G_min": -27.819281416077775
         }
        ],
        "data-d7255ad842f014c46f35befde053a015": [
         {
          "Threshold": "hazardous",
          "ThresholdValue": 0
         }
        ]
       },
       "hconcat": [
        {
         "data": {
          "name": "data-b5c728ab7417cd423c555c699da0d1da"
         },
         "layer": [
          {
           "encoding": {
            "x": {
             "field": "∆G_min",
             "type": "quantitative"
            },
            "x2": {
             "field": "∆G_max"
            },
            "y": {
             "field": "rxn",
             "type": "nominal"
            }
           },
           "height": 1000,
           "mark": "rect",
           "width": 400
          },
          {
           "encoding": {
            "tooltip": [
             {
              "field": "rxn",
              "type": "nominal"
             },
             {
              "field": "∆G_min",
              "type": "quantitative"
             },
             {
              "field": "∆G_mean",
              "type": "quantitative"
             },
             {
              "field": "∆G_max",
              "type": "quantitative"
             }
            ],
            "x": {
             "field": "∆G_mean",
             "type": "quantitative"
            },
            "y": {
             "field": "rxn",
             "type": "nominal"
            }
           },
           "mark": {
            "color": "red",
            "filled": true,
            "size": 100,
            "type": "point"
           },
           "selection": {
            "selector001": {
             "bind": "scales",
             "encodings": [
              "x",
              "y"
             ],
             "type": "interval"
            }
           }
          },
          {
           "data": {
            "name": "data-d7255ad842f014c46f35befde053a015"
           },
           "encoding": {
            "x": {
             "field": "ThresholdValue",
             "type": "quantitative"
            }
           },
           "mark": "rule"
          }
         ]
        },
        {
         "data": {
          "name": "data-1e1963336ba2dedac71c151277b9baa6"
         },
         "layer": [
          {
           "encoding": {
            "x": {
             "field": "flux_min",
             "type": "quantitative"
            },
            "x2": {
             "field": "flux_max"
            },
            "y": {
             "field": "rxn",
             "type": "nominal"
            }
           },
           "height": 1000,
           "mark": "rect",
           "width": 400
          },
          {
           "encoding": {
            "tooltip": [
             {
              "field": "rxn",
              "type": "nominal"
             },
             {
              "field": "flux_min",
              "type": "quantitative"
             },
             {
              "field": "flux",
              "type": "quantitative"
             },
             {
              "field": "flux_max",
              "type": "quantitative"
             }
            ],
            "x": {
             "field": "flux",
             "type": "quantitative"
            },
            "y": {
             "field": "rxn",
             "type": "nominal"
            }
           },
           "mark": {
            "color": "red",
            "filled": true,
            "size": 100,
            "type": "point"
           },
           "selection": {
            "selector002": {
             "bind": "scales",
             "encodings": [
              "x",
              "y"
             ],
             "type": "interval"
            }
           }
          },
          {
           "data": {
            "name": "data-d7255ad842f014c46f35befde053a015"
           },
           "encoding": {
            "x": {
             "field": "ThresholdValue",
             "type": "quantitative"
            }
           },
           "mark": "rule"
          }
         ]
        }
       ]
      },
      "image/png": "[encoded data removed]",
      "text/plain": [
       "<VegaLite 3 object>\n",
       "\n",
       "If you see this message, it means the renderer has not been properly enabled\n",
       "for the frontend that you are using. For more information, see\n",
       "https://altair-viz.github.io/user_guide/troubleshooting.html\n"
      ]
     },
     "execution_count": 14,
     "metadata": {
      "application/vnd.vegalite.v3+json": {
       "embed_options": {
        "actions": false
       }
      }
     },
     "output_type": "execute_result"
    }
   ],
   "source": [
    "# Plot reactions fluxes and respective Gibbs energies\n",
    "height=1000\n",
    "width=400\n",
    "plot_dG_and_flux(dG_df,  flux_df, height, width)"
   ]
  },
  {
   "cell_type": "markdown",
   "metadata": {},
   "source": [
    "# Misc"
   ]
  },
  {
   "cell_type": "markdown",
   "metadata": {},
   "source": [
    "### Reorder reactions in the model"
   ]
  },
  {
   "cell_type": "code",
   "execution_count": 15,
   "metadata": {},
   "outputs": [],
   "source": [
    "from set_up_grasp_models.set_up_models.manipulate_model import remove_spaces, reorder_reactions, rename_columns"
   ]
  },
  {
   "cell_type": "code",
   "execution_count": 16,
   "metadata": {},
   "outputs": [],
   "source": [
    "# list with reaction order\n",
    "rxn_order = ['R_PGL', 'R_EDD', 'R_EDA', 'R_PGI', 'R_FBP', 'R_FBA', 'R_TPI', 'R_GAPD',\n",
    "             'R_PGK', 'R_PGM', 'R_ENO', 'R_PYK', 'R_G6PDH2','R_EX_pyr', 'R_EX_pep', \n",
    "             'R_EX_g6p', 'R_EX_6pgc', 'R_EX_g3p', 'R_EX_f6p', 'R_EX_3pg']\n",
    "\n",
    "# path to current model\n",
    "model_name = 'glycolysis_v2'\n",
    "file_in = os.path.join('example_files', 'output', model_name + '.xlsx')\n",
    "\n",
    "# import current model with pandas\n",
    "data_dict = pd.read_excel(file_in, sheet_name=None, index_col=0)\n",
    "\n",
    "# path to the model with re-ordered reactions - just substitute current one\n",
    "file_out = file_in\n",
    "\n",
    "# re-order reactions according to rxn_list\n",
    "reorder_reactions(data_dict, rxn_order, file_out)"
   ]
  },
  {
   "cell_type": "markdown",
   "metadata": {},
   "source": [
    "### Rename columns in the model"
   ]
  },
  {
   "cell_type": "code",
   "execution_count": 17,
   "metadata": {},
   "outputs": [],
   "source": [
    "# path to current model\n",
    "model_name = 'glycolysis_v2'\n",
    "file_in = os.path.join('example_files', 'output', model_name + '.xlsx')\n",
    "\n",
    "# import current model with pandas\n",
    "data_dict = pd.read_excel(file_in, sheet_name=None, index_col=0)\n",
    "\n",
    "# path to the model with re-ordered reactions - just substitute current one\n",
    "file_out = file_in\n",
    "\n",
    "# renames columns names, so that they are standard and cause no problems with other functions\n",
    "rename_columns(data_dict, file_out)"
   ]
  },
  {
   "cell_type": "markdown",
   "metadata": {},
   "source": [
    "### Remove all leading and trailing spaces in all string cells"
   ]
  },
  {
   "cell_type": "code",
   "execution_count": 18,
   "metadata": {},
   "outputs": [],
   "source": [
    "# path to current model\n",
    "model_name = 'glycolysis_v2'\n",
    "file_in = os.path.join('example_files', 'output', model_name + '.xlsx')\n",
    "\n",
    "# import current model with pandas\n",
    "data_dict = pd.read_excel(file_in, sheet_name=None, index_col=0)\n",
    "\n",
    "# path to the model with re-ordered reactions - just substitute current one\n",
    "file_out = file_in\n",
    "\n",
    "# remove any leading or trailing spaces in all string cells\n",
    "remove_spaces(data_dict, file_out)"
   ]
  },
  {
   "cell_type": "markdown",
   "metadata": {},
   "source": [
    "### Get plain text file with reaction list from GRASP excel input file"
   ]
  },
  {
   "cell_type": "code",
   "execution_count": 19,
   "metadata": {},
   "outputs": [],
   "source": [
    "from set_up_grasp_models.io.stoic import import_stoic\n",
    "from set_up_grasp_models.io.plaintext import write_to_plaintext"
   ]
  },
  {
   "cell_type": "code",
   "execution_count": 20,
   "metadata": {},
   "outputs": [],
   "source": [
    "input_file = os.path.join('example_files', 'model_v2.3.xlsx')\n",
    "file_out = os.path.join('example_files', 'output', 'model_reaction_list.txt')\n",
    "\n",
    "mets, rxns, rxn_list = import_stoic(input_file)\n",
    "\n",
    "write_to_plaintext(rxn_list, file_out)"
   ]
  },
  {
   "cell_type": "code",
   "execution_count": null,
   "metadata": {},
   "outputs": [],
   "source": []
  }
 ],
 "metadata": {
  "kernelspec": {
   "display_name": "Python 3",
   "language": "python",
   "name": "python3"
  },
  "language_info": {
   "codemirror_mode": {
    "name": "ipython",
    "version": 3
   },
   "file_extension": ".py",
   "mimetype": "text/x-python",
   "name": "python",
   "nbconvert_exporter": "python",
   "pygments_lexer": "ipython3",
   "version": "3.7.4"
  }
 },
 "nbformat": 4,
 "nbformat_minor": 4
}
