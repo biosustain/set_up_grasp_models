{
 "cells": [
  {
   "cell_type": "code",
   "execution_count": 1,
   "metadata": {},
   "outputs": [],
   "source": [
    "import pandas as pd\n",
    "import altair as alt\n",
    "import numpy as np\n",
    "\n",
    "from set_up_grasp_models import check_thermodynamic_feasibility\n",
    "\n",
    "# comment the following line if you're using jupyter lab, uncomment if you're using jupyter notebook\n",
    "#alt.renderers.enable('notebook')"
   ]
  },
  {
   "cell_type": "code",
   "execution_count": 2,
   "metadata": {},
   "outputs": [
    {
     "name": "stdout",
     "output_type": "stream",
     "text": [
      "\n",
      "Checking if fluxes and Gibbs energies are compatible.\n",
      "\n",
      "Everything seems to be OK.\n"
     ]
    }
   ],
   "source": [
    "file_in = 'models/HMP2360_r0_t0.xlsx'\n",
    "data_dict = pd.read_excel(file_in, sheet_name=None)\n",
    "flag, flux_df, dG_df = check_thermodynamic_feasibility(data_dict) "
   ]
  },
  {
   "cell_type": "code",
   "execution_count": 3,
   "metadata": {},
   "outputs": [],
   "source": [
    "dG_df['rxn'] = dG_df.index\n",
    "\n",
    "\n",
    "flux_df['rxn'] = flux_df.index\n",
    "flux_df['flux_min'] = flux_df['MBo10_mean'] - flux_df['MBo10_std']\n",
    "flux_df['flux_max'] = flux_df['MBo10_mean'] + flux_df['MBo10_std']\n",
    "flux_df['flux'] = flux_df['MBo10_mean']"
   ]
  },
  {
   "cell_type": "code",
   "execution_count": 4,
   "metadata": {},
   "outputs": [],
   "source": [
    "def plot_dG_and_flux(dG_df, flux_df, height=400, width=600):\n",
    "    threshold_df = pd.DataFrame([{\"ThresholdValue\": 0, \"Threshold\": \"hazardous\"}])\n",
    "    \n",
    "    rect_dG = alt.Chart(dG_df).mark_rect().encode(\n",
    "        y ='rxn:N',\n",
    "        x='∆G_min',\n",
    "        x2='∆G_max'\n",
    "    ).properties(\n",
    "        height=height,\n",
    "        width=width\n",
    "    )\n",
    "\n",
    "    point_dG = alt.Chart(dG_df).mark_point(size=100, color='red', filled=True).encode(\n",
    "        y ='rxn:N',\n",
    "        x='∆G_mean',\n",
    "        tooltip=['rxn', '∆G_mean']\n",
    "    ).interactive()\n",
    "\n",
    "\n",
    "    rule_dG = alt.Chart(threshold_df).mark_rule().encode(\n",
    "        x='ThresholdValue:Q'\n",
    "    )\n",
    "\n",
    "\n",
    "    rect_flux = alt.Chart(flux_df).mark_rect().encode(\n",
    "        y ='rxn:N',\n",
    "        x='flux_min:Q',\n",
    "        x2='flux_max:Q'\n",
    "    ).properties(\n",
    "        height=height,\n",
    "        width=width\n",
    "    )\n",
    "\n",
    "    point_flux = alt.Chart(flux_df).mark_point(size=100, color='red', filled=True).encode(\n",
    "        y ='rxn:N',\n",
    "        x='flux',\n",
    "        tooltip=['rxn', 'flux']\n",
    "    ).interactive()\n",
    "\n",
    "\n",
    "    rule_flux = alt.Chart(threshold_df).mark_rule().encode(\n",
    "        x='ThresholdValue:Q'\n",
    "    )\n",
    "\n",
    "    return alt.hconcat(rect_dG + point_dG + rule_dG, rect_flux + point_flux + rule_flux)\n"
   ]
  },
  {
   "cell_type": "code",
   "execution_count": 5,
   "metadata": {},
   "outputs": [
    {
     "data": {
      "application/vnd.vegalite.v2+json": {
       "$schema": "https://vega.github.io/schema/vega-lite/v2.6.0.json",
       "config": {
        "view": {
         "height": 300,
         "width": 400
        }
       },
       "datasets": {
        "data-1c9bb7ea8cf4f377209d830bf2657a6b": [
         {
          "MBo10_mean": 103.76223314988209,
          "MBo10_std": 1.658156892096526e-05,
          "flux": 103.76223314988209,
          "flux_max": 103.762249731451,
          "flux_min": 103.76221656831318,
          "rxn": "TPH"
         },
         {
          "MBo10_mean": 103.33049420683892,
          "MBo10_std": 1.6581568920520804e-05,
          "flux": 103.33049420683892,
          "flux_max": 103.33051078840784,
          "flux_min": 103.33047762527,
          "rxn": "DDC"
         },
         {
          "MBo10_mean": 84.81212210266628,
          "MBo10_std": 1.6562278726453727e-05,
          "flux": 84.81212210266628,
          "flux_max": 84.81213866494501,
          "flux_min": 84.81210554038755,
          "rxn": "AANAT"
         },
         {
          "MBo10_mean": 85.37947678780327,
          "MBo10_std": 1.6562268491421592e-05,
          "flux": 85.37947678780327,
          "flux_max": 85.37949335007175,
          "flux_min": 85.37946022553479,
          "rxn": "ASMT"
         },
         {
          "MBo10_mean": 0.10354568250302944,
          "MBo10_std": 2.3537677309534e-10,
          "flux": 0.10354568250302944,
          "flux_max": 0.10354568273840621,
          "flux_min": 0.10354568226765266,
          "rxn": "DDC_tryptm"
         },
         {
          "MBo10_mean": 0.10354568250291944,
          "MBo10_std": 2.3537677309473925e-10,
          "flux": 0.10354568250291944,
          "flux_max": 0.10354568273829622,
          "flux_min": 0.10354568226754267,
          "rxn": "AANAT_tryptm"
         },
         {
          "MBo10_mean": 22.411001374029176,
          "MBo10_std": 4.082946238547769,
          "flux": 22.411001374029176,
          "flux_max": 26.493947612576946,
          "flux_min": 18.328055135481407,
          "rxn": "IN_trp"
         },
         {
          "MBo10_mean": -81.4547774583559,
          "MBo10_std": 4.0829462385141,
          "flux": -81.4547774583559,
          "flux_max": -77.37183121984181,
          "flux_min": -85.53772369687,
          "rxn": "EX_trp"
         },
         {
          "MBo10_mean": 18.5183721041727,
          "MBo10_std": 7.99594430470695e-07,
          "flux": 18.5183721041727,
          "flux_max": 18.51837290376713,
          "flux_min": 18.518371304578267,
          "rxn": "EX_srtn"
         },
         {
          "MBo10_mean": 0.431738943043251,
          "MBo10_std": 1.21410377655987e-10,
          "flux": 0.431738943043251,
          "flux_max": 0.4317389431646614,
          "flux_min": 0.4317389429218406,
          "rxn": "EX_fivehtp"
         },
         {
          "MBo10_mean": -0.567354685137039,
          "MBo10_std": 1.84127891703472e-08,
          "flux": -0.567354685137039,
          "flux_max": -0.5673546667242498,
          "flux_min": -0.5673547035498282,
          "rxn": "EX_nactsertn"
         },
         {
          "MBo10_mean": 85.3794767878033,
          "MBo10_std": 1.65622684914216e-05,
          "flux": 85.3794767878033,
          "flux_max": 85.37949335007178,
          "flux_min": 85.37946022553481,
          "rxn": "EX_meltn"
         },
         {
          "MBo10_mean": 0.103545682502924,
          "MBo10_std": 2.35376773094737e-10,
          "flux": 0.103545682502924,
          "flux_max": 0.10354568273830077,
          "flux_min": 0.10354568226754722,
          "rxn": "EX_nactryptm"
         }
        ],
        "data-1ed86a73171dc9761f1f58b877b07fe5": [
         {
          "rxn": "TPH",
          "∆G_max": -15.742740004210717,
          "∆G_mean": -84.77716534675521,
          "∆G_min": -173.17032897928743
         },
         {
          "rxn": "DDC",
          "∆G_max": 7.819281416077775,
          "∆G_mean": -26.1,
          "∆G_min": -60.019281416077774
         },
         {
          "rxn": "AANAT",
          "∆G_max": 46.21647808747268,
          "∆G_mean": 6.956685649532922,
          "∆G_min": -12.645032051164769
         },
         {
          "rxn": "ASMT",
          "∆G_max": 15.695533105826536,
          "∆G_mean": -12.729037716871975,
          "∆G_min": -41.116989940426876
         },
         {
          "rxn": "DDC_tryptm",
          "∆G_max": -2.623011914498625,
          "∆G_mean": -24.5772623335585,
          "∆G_min": -46.50814575914109
         },
         {
          "rxn": "AANAT_tryptm",
          "∆G_max": 8.450965829438708,
          "∆G_mean": -8.945617857035534,
          "∆G_min": -26.392756226245655
         },
         {
          "rxn": "IN_trp",
          "∆G_max": 56.122125439093026,
          "∆G_mean": 14.777165346755211,
          "∆G_min": -7.209056455594855
         },
         {
          "rxn": "EX_trp",
          "∆G_max": 7.209056455594855,
          "∆G_mean": -19.77716534675521,
          "∆G_min": -66.12212543909303
         },
         {
          "rxn": "EX_srtn",
          "∆G_max": 51.90186306129088,
          "∆G_mean": 13.272755294698396,
          "∆G_min": -5.971514946451109
         },
         {
          "rxn": "EX_fivehtp",
          "∆G_max": 27.819281416077775,
          "∆G_mean": -2.5,
          "∆G_min": -32.81928141607777
         },
         {
          "rxn": "EX_nactsertn",
          "∆G_max": 16.793698425056025,
          "∆G_mean": -4.115573675948978,
          "∆G_min": -25.102634176614735
         },
         {
          "rxn": "EX_meltn",
          "∆G_max": -3.8500185569572647,
          "∆G_mean": -11.589047422595963,
          "∆G_min": -19.30937711484335
         },
         {
          "rxn": "EX_nactryptm",
          "∆G_max": -1.7156285802820062,
          "∆G_mean": -10.470096183596599,
          "∆G_min": -18.845194633261393
         }
        ],
        "data-d7255ad842f014c46f35befde053a015": [
         {
          "Threshold": "hazardous",
          "ThresholdValue": 0
         }
        ]
       },
       "hconcat": [
        {
         "layer": [
          {
           "data": {
            "name": "data-1ed86a73171dc9761f1f58b877b07fe5"
           },
           "encoding": {
            "x": {
             "field": "∆G_min",
             "type": "quantitative"
            },
            "x2": {
             "field": "∆G_max",
             "type": "quantitative"
            },
            "y": {
             "field": "rxn",
             "type": "nominal"
            }
           },
           "height": 1000,
           "mark": "rect",
           "width": 400
          },
          {
           "data": {
            "name": "data-1ed86a73171dc9761f1f58b877b07fe5"
           },
           "encoding": {
            "tooltip": [
             {
              "field": "rxn",
              "type": "nominal"
             },
             {
              "field": "∆G_mean",
              "type": "quantitative"
             }
            ],
            "x": {
             "field": "∆G_mean",
             "type": "quantitative"
            },
            "y": {
             "field": "rxn",
             "type": "nominal"
            }
           },
           "mark": {
            "color": "red",
            "filled": true,
            "size": 100,
            "type": "point"
           },
           "selection": {
            "selector001": {
             "bind": "scales",
             "encodings": [
              "x",
              "y"
             ],
             "mark": {
              "fill": "#333",
              "fillOpacity": 0.125,
              "stroke": "white"
             },
             "on": "[mousedown, window:mouseup] > window:mousemove!",
             "resolve": "global",
             "translate": "[mousedown, window:mouseup] > window:mousemove!",
             "type": "interval",
             "zoom": "wheel!"
            }
           }
          },
          {
           "data": {
            "name": "data-d7255ad842f014c46f35befde053a015"
           },
           "encoding": {
            "x": {
             "field": "ThresholdValue",
             "type": "quantitative"
            }
           },
           "mark": "rule"
          }
         ]
        },
        {
         "layer": [
          {
           "data": {
            "name": "data-1c9bb7ea8cf4f377209d830bf2657a6b"
           },
           "encoding": {
            "x": {
             "field": "flux_min",
             "type": "quantitative"
            },
            "x2": {
             "field": "flux_max",
             "type": "quantitative"
            },
            "y": {
             "field": "rxn",
             "type": "nominal"
            }
           },
           "height": 1000,
           "mark": "rect",
           "width": 400
          },
          {
           "data": {
            "name": "data-1c9bb7ea8cf4f377209d830bf2657a6b"
           },
           "encoding": {
            "tooltip": [
             {
              "field": "rxn",
              "type": "nominal"
             },
             {
              "field": "flux",
              "type": "quantitative"
             }
            ],
            "x": {
             "field": "flux",
             "type": "quantitative"
            },
            "y": {
             "field": "rxn",
             "type": "nominal"
            }
           },
           "mark": {
            "color": "red",
            "filled": true,
            "size": 100,
            "type": "point"
           },
           "selection": {
            "selector002": {
             "bind": "scales",
             "encodings": [
              "x",
              "y"
             ],
             "mark": {
              "fill": "#333",
              "fillOpacity": 0.125,
              "stroke": "white"
             },
             "on": "[mousedown, window:mouseup] > window:mousemove!",
             "resolve": "global",
             "translate": "[mousedown, window:mouseup] > window:mousemove!",
             "type": "interval",
             "zoom": "wheel!"
            }
           }
          },
          {
           "data": {
            "name": "data-d7255ad842f014c46f35befde053a015"
           },
           "encoding": {
            "x": {
             "field": "ThresholdValue",
             "type": "quantitative"
            }
           },
           "mark": "rule"
          }
         ]
        }
       ]
      },
      "image/png": "[encoded data removed]",
      "text/plain": [
       "<VegaLite 2 object>\n",
       "\n",
       "If you see this message, it means the renderer has not been properly enabled\n",
       "for the frontend that you are using. For more information, see\n",
       "https://altair-viz.github.io/user_guide/troubleshooting.html\n"
      ]
     },
     "execution_count": 5,
     "metadata": {},
     "output_type": "execute_result"
    }
   ],
   "source": [
    "height=1000\n",
    "width=400\n",
    "plot_dG_and_flux(dG_df,  flux_df, height, width)"
   ]
  },
  {
   "cell_type": "code",
   "execution_count": null,
   "metadata": {},
   "outputs": [],
   "source": []
  }
 ],
 "metadata": {
  "kernelspec": {
   "display_name": "Python 3",
   "language": "python",
   "name": "python3"
  },
  "language_info": {
   "codemirror_mode": {
    "name": "ipython",
    "version": 3
   },
   "file_extension": ".py",
   "mimetype": "text/x-python",
   "name": "python",
   "nbconvert_exporter": "python",
   "pygments_lexer": "ipython3",
   "version": "3.6.8"
  }
 },
 "nbformat": 4,
 "nbformat_minor": 2
}
